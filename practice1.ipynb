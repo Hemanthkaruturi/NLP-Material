{
 "cells": [
  {
   "cell_type": "code",
   "execution_count": 1,
   "metadata": {},
   "outputs": [],
   "source": [
    "import re, string, unicodedata\n",
    "import nltk\n",
    "import contractions\n",
    "import inflect\n",
    "from bs4 import BeautifulSoup\n",
    "from nltk import word_tokenize, sent_tokenize\n",
    "from nltk.corpus import stopwords\n",
    "from nltk.stem import LancasterStemmer, WordNetLemmatizer"
   ]
  },
  {
   "cell_type": "code",
   "execution_count": 2,
   "metadata": {},
   "outputs": [],
   "source": [
    "#html sample text\n",
    "\n",
    "sample = \"\"\"<h1>Title Goes Here</h1>\n",
    "<b>Bolded Text</b>\n",
    "<i>Italicized Text</i>\n",
    "<img src=\"this should all be gone\"/>\n",
    "<a href=\"this will be gone, too\">But this will still be here!</a>\n",
    "I run. He ran. She is running. Will they stop running?\n",
    "I talked. She was talking. They talked to them about running. Who ran to the talking runner?\n",
    "[Some text we don't want to keep is in here]\n",
    "¡Sebastián, Nicolás, Alejandro and Jéronimo are going to the store tomorrow morning!\n",
    "something... is! wrong() with.,; this :: sentence.\n",
    "I can't do this anymore. I didn't know them. Why couldn't you have dinner at the restaurant?\n",
    "My favorite movie franchises, in order: Indiana Jones; Marvel Cinematic Universe; Star Wars; Back to the Future; Harry Potter.\n",
    "Don't do it.... Just don't. Billy! I know what you're doing. This is a great little house you've got here.\n",
    "[This is some other unwanted text]\n",
    "John: \"Well, well, well.\"\n",
    "James: \"There, there. There, there.\"\n",
    "&nbsp;&nbsp;\n",
    "There are a lot of reasons not to do this. There are 101 reasons not to do it. 1000000 reasons, actually.\n",
    "I have to go get 2 tutus from 2 different stores, too.\n",
    "22    45   1067   445\n",
    "{{Here is some stuff inside of double curly braces.}}\n",
    "{Here is more stuff in single curly braces.}\n",
    "[DELETE]\n",
    "</body>\n",
    "</html>\"\"\""
   ]
  },
  {
   "cell_type": "code",
   "execution_count": 35,
   "metadata": {},
   "outputs": [
    {
     "name": "stdout",
     "output_type": "stream",
     "text": [
      "['title', 'go', 'bolded', 'text', 'italicize', 'text', 'still', 'run', 'run', 'run', 'stop', 'run', 'talk', 'talk', 'talk', 'run', 'run', 'talk', 'runner', 'sebastian', 'nicolas', 'alejandro', 'jeronimo', 'go', 'store', 'tomorrow', 'morning', 'something', 'wrong', 'sentence', 'anymore', 'know', 'could', 'dinner', 'restaurant', 'favorite', 'movie', 'franchise', 'order', 'indiana', 'jones', 'marvel', 'cinematic', 'universe', 'star', 'war', 'back', 'future', 'harry', 'potter', 'billy', 'know', 'great', 'little', 'house', 'get', 'john', 'well', 'well', 'well', 'jam', 'lot', 'reason', 'one', 'hundred', 'and', 'one', 'reason', 'one', 'million', 'reason', 'actually', 'go', 'get', 'two', 'tutus', 'two', 'different', 'store', 'twenty-two', 'forty-five', 'one', 'thousand', 'and', 'sixty-seven', 'four', 'hundred', 'and', 'forty-five', 'stuff', 'inside', 'double', 'curly', 'brace', 'stuff', 'single', 'curly', 'brace']\n"
     ]
    }
   ],
   "source": [
    "#Importing Text\n",
    "words = BeautifulSoup(sample, \"html.parser\")\n",
    "words = words.get_text()\n",
    "words = words.lower()   #converting all upper case to lower case\n",
    "\n",
    "#Removing text between square brackets \n",
    "words = re.sub('\\[[^]]*\\]','',words)\n",
    "\n",
    "#Removing all symbols \n",
    "words = re.sub(r'[^\\w\\s]', '', words)\n",
    "\n",
    "#Replacing contactions in the text\n",
    "#Contractions means 'you're happy now' -> 'you are happy now'\n",
    "words = contractions.fix(words)\n",
    "\n",
    "#Tokenizing \n",
    "words = nltk.word_tokenize(words)\n",
    "\n",
    "#removing non-ASCII characters from the list\n",
    "new_words = []\n",
    "for word in words:\n",
    "    new_word = unicodedata.normalize('NFKD', word).encode('ascii', 'ignore').decode('utf-8', 'ignore')\n",
    "    new_words.append(new_word)\n",
    "\n",
    "#converting numbers to words.  22 -> twenty-two    \n",
    "p = inflect.engine()\n",
    "after_words = []\n",
    "for words in new_words:\n",
    "    if words.isdigit():\n",
    "        new_word = p.number_to_words(words)\n",
    "        after_words.append(new_word)\n",
    "    else:\n",
    "        after_words.append(words)\n",
    "        \n",
    "#removing Stop words\n",
    "word = [word for word in after_words if not word in set(stopwords.words('english'))]\n",
    "words = \" \".join(word)\n",
    "words = words.split()\n",
    "\n",
    "#Stemming the words #https://nlp.stanford.edu/IR-book/html/htmledition/stemming-and-lemmatization-1.html\n",
    "ls = LancasterStemmer()\n",
    "stem_words = []\n",
    "for word in words:\n",
    "    stem = ls.stem(word)\n",
    "    stem_words.append(stem)\n",
    "\n",
    "#Lemmetizing the words\n",
    "lemmatizer = WordNetLemmatizer()\n",
    "lemma_words = []\n",
    "for word in words:\n",
    "    lemma = lemmatizer.lemmatize(word, pos='v')\n",
    "    lemma_words.append(lemma)\n",
    "\n",
    "print(lemma_words)"
   ]
  },
  {
   "cell_type": "code",
   "execution_count": 27,
   "metadata": {},
   "outputs": [
    {
     "name": "stdout",
     "output_type": "stream",
     "text": [
      "This is a practice cell\n"
     ]
    }
   ],
   "source": [
    "      "
   ]
  }
 ],
 "metadata": {
  "kernelspec": {
   "display_name": "Python 3",
   "language": "python",
   "name": "python3"
  },
  "language_info": {
   "codemirror_mode": {
    "name": "ipython",
    "version": 3
   },
   "file_extension": ".py",
   "mimetype": "text/x-python",
   "name": "python",
   "nbconvert_exporter": "python",
   "pygments_lexer": "ipython3",
   "version": "3.6.4"
  }
 },
 "nbformat": 4,
 "nbformat_minor": 2
}
